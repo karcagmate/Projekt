{
 "cells": [
  {
   "cell_type": "code",
   "execution_count": null,
   "metadata": {},
   "outputs": [],
   "source": [
    "#Phase ID       Phase\n",
    "#1             Preparation\n",
    "#2             Dividing Ligament and Peritoneum\n",
    "#3             Dividing Uterine Vessels and Ligament\n",
    "#4             Transecting the Vagina\n",
    "#5             Specimen Removal\n",
    "#6             Suturing\n",
    "#7             Washing\n",
    "\n",
    "\n",
    "\n",
    "#Splitting\n",
    "#01-10 for training, 11-14 for validation and 15-21 for testing\n",
    "\n",
    "\n"
   ]
  },
  {
   "cell_type": "code",
   "execution_count": null,
   "metadata": {},
   "outputs": [],
   "source": [
    "from DataPreparaion import DataPreparation\n",
    "from LabelPreparation import LabelPrep\n",
    "from LabelPreparation import Train_Test\n",
    "import numpy as np\n"
   ]
  },
  {
   "cell_type": "code",
   "execution_count": null,
   "metadata": {},
   "outputs": [],
   "source": [
    "\n",
    "#train images\n",
    "#video_path=\"videos/video/video01/\"\n",
    "#save_path=\"frames/\"\n",
    "#label_path=\"labels/\"\n",
    "#dp=DataPreparation(video_path,save_path,label_path)\n",
    "#dp.get_frames()"
   ]
  },
  {
   "cell_type": "code",
   "execution_count": null,
   "metadata": {},
   "outputs": [],
   "source": [
    "#video_path=\"videos/video/\"\n",
    "#save_path=\"frames/\"\n",
    "#label_path=\"labels/\"\n",
    "#dp=DataPreparation(video_path,save_path,label_path)\n",
    "#dp.get_frames()"
   ]
  },
  {
   "cell_type": "code",
   "execution_count": null,
   "metadata": {},
   "outputs": [],
   "source": [
    "import tensorflow as tf\n",
    "\n",
    "print(\"Num GPUs Available: \", len(tf.config.list_physical_devices('GPU')))"
   ]
  },
  {
   "cell_type": "code",
   "execution_count": null,
   "metadata": {},
   "outputs": [],
   "source": [
    "train_file_path=\"frames/training/\"\n",
    "tt=Train_Test(train_file_path)\n",
    "train_images=tt.into_array()\n",
    "train_images.shape"
   ]
  },
  {
   "cell_type": "code",
   "execution_count": null,
   "metadata": {},
   "outputs": [],
   "source": [
    "train_label_path=\"labels/training/\"\n",
    "lp=LabelPrep(train_label_path)\n",
    "train_labels_df=lp.prep_label()\n",
    "print(np.unique(train_labels_df))\n",
    "train_labels_df.shape\n",
    "\n",
    "\n"
   ]
  },
  {
   "cell_type": "code",
   "execution_count": null,
   "metadata": {},
   "outputs": [],
   "source": [
    "validaion_file_path=\"frames/validation/\"\n",
    "tt=Train_Test(validaion_file_path)\n",
    "validation_images=tt.into_array()\n",
    "validation_images.shape"
   ]
  },
  {
   "cell_type": "code",
   "execution_count": null,
   "metadata": {},
   "outputs": [],
   "source": [
    "validation_label_path=\"labels/validation/\"\n",
    "lp=LabelPrep(validation_label_path)\n",
    "validation_labels_df=lp.prep_label()\n",
    "print(np.unique(validation_labels_df))\n",
    "validation_labels_df.shape"
   ]
  },
  {
   "cell_type": "code",
   "execution_count": null,
   "metadata": {},
   "outputs": [],
   "source": [
    "test_file_path=\"frames/testing/\"\n",
    "tt=Train_Test(test_file_path)\n",
    "test_images=tt.into_array()\n",
    "test_images.shape"
   ]
  },
  {
   "cell_type": "code",
   "execution_count": null,
   "metadata": {},
   "outputs": [],
   "source": [
    "test_label_path=\"labels/testing/\"\n",
    "lp=LabelPrep(test_label_path)\n",
    "test_labels_df=lp.prep_label()\n",
    "print(np.unique(test_labels_df))\n",
    "test_labels_df.shape"
   ]
  },
  {
   "cell_type": "code",
   "execution_count": null,
   "metadata": {},
   "outputs": [],
   "source": [
    "import matplotlib.pyplot as plt\n",
    "#testing\n",
    "#Phase ID       Phase\n",
    "#1             Preparation\n",
    "#2             Dividing Ligament and Peritoneum\n",
    "#3             Dividing Uterine Vessels and Ligament\n",
    "#4             Transecting the Vagina\n",
    "#5             Specimen Removal\n",
    "#6             Suturing\n",
    "#7             Washing\n",
    "class_names=['Preparation','Dividing Ligament and Peritoneum','Dividing Uterine Vessels and Ligament',\n",
    "             'Transecting the Vagina','Specimen Removal','Suturing','Washing']\n",
    "plt.figure(figsize=(15,15))\n",
    "for i in range(10):\n",
    "    plt.subplot(3,5,i+1)\n",
    "    plt.xticks([])\n",
    "    plt.yticks([])\n",
    "    plt.grid(False)\n",
    "    plt.imshow(train_images[i],cmap='gray')\n",
    "    plt.xlabel(class_names[train_labels_df.iloc[i]['Phase']-1])\n",
    "\n",
    "plt.show()\n",
    "\n",
    "\n",
    "\n"
   ]
  },
  {
   "cell_type": "code",
   "execution_count": null,
   "metadata": {},
   "outputs": [],
   "source": [
    "from ModelPreparation import Build_model\n",
    "bd=Build_model(train_images,validation_images,test_images,train_labels_df,validation_labels_df,test_labels_df)\n",
    "bd.train_model()\n",
    "bd.plot_accu()"
   ]
  },
  {
   "cell_type": "code",
   "execution_count": null,
   "metadata": {},
   "outputs": [],
   "source": [
    "#@article{wang2022autolaparo,\n",
    " # title={AutoLaparo: A New Dataset of Integrated Multi-tasks for Image-guided Surgical Automation in Laparoscopic Hysterectomy},\n",
    "  #author={Wang, Ziyi and Lu, Bo and Long, Yonghao and Zhong, Fangxun and Cheung, Tak-Hong and Dou, Qi and Liu, Yunhui},\n",
    " # journal={arXiv preprint arXiv:2208.02049},\n",
    " # year={2022}\n",
    "#}"
   ]
  }
 ],
 "metadata": {
  "kernelspec": {
   "display_name": "Python 3",
   "language": "python",
   "name": "python3"
  },
  "language_info": {
   "codemirror_mode": {
    "name": "ipython",
    "version": 3
   },
   "file_extension": ".py",
   "mimetype": "text/x-python",
   "name": "python",
   "nbconvert_exporter": "python",
   "pygments_lexer": "ipython3",
   "version": "3.11.9"
  }
 },
 "nbformat": 4,
 "nbformat_minor": 2
}
