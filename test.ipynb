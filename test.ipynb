{
 "cells": [
  {
   "cell_type": "code",
   "execution_count": null,
   "metadata": {},
   "outputs": [],
   "source": [
    "#Phase ID       Phase\n",
    "#1             Preparation\n",
    "#2             Dividing Ligament and Peritoneum\n",
    "#3             Dividing Uterine Vessels and Ligament\n",
    "#4             Transecting the Vagina\n",
    "#5             Specimen Removal\n",
    "#6             Suturing\n",
    "#7             Washing\n",
    "\n",
    "\n",
    "\n",
    "#Splitting\n",
    "#01-10 for training, 11-14 for validation and 15-21 for testing\n",
    "\n",
    "\n"
   ]
  },
  {
   "cell_type": "code",
   "execution_count": null,
   "metadata": {},
   "outputs": [],
   "source": [
    "from DataPreparaion import DataPreparation\n",
    "from LabelPreparation import LabelPrep\n",
    "from LabelPreparation import Train_Test"
   ]
  },
  {
   "cell_type": "code",
   "execution_count": null,
   "metadata": {},
   "outputs": [],
   "source": [
    "\n",
    "#train images\n",
    "video_path=\"videos/video/video01/\"\n",
    "save_path=\"frames/\"\n",
    "label_path=\"labels/\"\n",
    "dp=DataPreparation(video_path,save_path,label_path)\n",
    "dp.get_frames()"
   ]
  },
  {
   "cell_type": "code",
   "execution_count": null,
   "metadata": {},
   "outputs": [],
   "source": [
    "#train images into array\n",
    "train_file_path=\"frames/01/\"\n",
    "tt=Train_Test(train_file_path)\n",
    "train_images=tt.into_array()\n",
    "train_images.shape\n"
   ]
  },
  {
   "cell_type": "code",
   "execution_count": null,
   "metadata": {},
   "outputs": [],
   "source": [
    "import numpy as np\n",
    "#train labels\n",
    "label_path=\"labels/\"\n",
    "lp=LabelPrep(label_path,\"01\")\n",
    "train_label_df=lp.prep_label()\n",
    "train_label_df.shape\n",
    "train_label_df.head()\n",
    "print(np.unique(train_label_df))\n",
    "\n",
    "\n"
   ]
  },
  {
   "cell_type": "code",
   "execution_count": null,
   "metadata": {},
   "outputs": [],
   "source": [
    "#test images\n",
    "video_path=\"videos/video/video02/\"\n",
    "save_path=\"frames/\"\n",
    "label_path=\"labels/\"\n",
    "dp=DataPreparation(video_path,save_path,label_path)\n",
    "dp.get_frames()"
   ]
  },
  {
   "cell_type": "code",
   "execution_count": null,
   "metadata": {},
   "outputs": [],
   "source": [
    "#test images into array\n",
    "test_file_path=\"frames/02/\"\n",
    "tt=Train_Test(test_file_path)\n",
    "test_images=tt.into_array()\n",
    "test_images.shape"
   ]
  },
  {
   "cell_type": "code",
   "execution_count": null,
   "metadata": {},
   "outputs": [],
   "source": [
    "#test labels\n",
    "label_path=\"labels/\"\n",
    "lp=LabelPrep(label_path,\"02\")\n",
    "test_label_df=lp.prep_label()\n",
    "test_label_df.shape\n",
    "print(np.unique(test_label_df))\n"
   ]
  },
  {
   "cell_type": "code",
   "execution_count": null,
   "metadata": {},
   "outputs": [],
   "source": [
    "import matplotlib.pyplot as plt\n",
    "#testing\n",
    "#Phase ID       Phase\n",
    "#1             Preparation\n",
    "#2             Dividing Ligament and Peritoneum\n",
    "#3             Dividing Uterine Vessels and Ligament\n",
    "#4             Transecting the Vagina\n",
    "#5             Specimen Removal\n",
    "#6             Suturing\n",
    "#7             Washing\n",
    "class_names=['Preparation','Dividing Ligament and Peritoneum','Dividing Uterine Vessels and Ligament',\n",
    "             'Transecting the Vagina','Specimen Removal','Suturing','Washing']\n",
    "plt.figure(figsize=(15,15))\n",
    "for i in range(10):\n",
    "    plt.subplot(3,5,i+1)\n",
    "    plt.xticks([])\n",
    "    plt.yticks([])\n",
    "    plt.grid(False)\n",
    "    plt.imshow(train_images[i])\n",
    "    plt.xlabel(class_names[train_label_df.iloc[i]['Phase']-1])\n",
    "\n",
    "plt.show()\n",
    "\n",
    "\n",
    "\n"
   ]
  },
  {
   "cell_type": "code",
   "execution_count": null,
   "metadata": {},
   "outputs": [],
   "source": [
    "from ModelPreparation import Build_model\n",
    "bd=Build_model(train_images,test_images,train_label_df,test_label_df)\n",
    "bd.train_model()"
   ]
  }
 ],
 "metadata": {
  "kernelspec": {
   "display_name": "Python 3",
   "language": "python",
   "name": "python3"
  },
  "language_info": {
   "codemirror_mode": {
    "name": "ipython",
    "version": 3
   },
   "file_extension": ".py",
   "mimetype": "text/x-python",
   "name": "python",
   "nbconvert_exporter": "python",
   "pygments_lexer": "ipython3",
   "version": "3.11.6"
  }
 },
 "nbformat": 4,
 "nbformat_minor": 2
}
